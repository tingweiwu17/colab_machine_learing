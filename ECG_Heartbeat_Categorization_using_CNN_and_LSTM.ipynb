{
  "nbformat": 4,
  "nbformat_minor": 0,
  "metadata": {
    "kernelspec": {
      "display_name": "Python 3",
      "language": "python",
      "name": "python3"
    },
    "language_info": {
      "codemirror_mode": {
        "name": "ipython",
        "version": 3
      },
      "file_extension": ".py",
      "mimetype": "text/x-python",
      "name": "python",
      "nbconvert_exporter": "python",
      "pygments_lexer": "ipython3",
      "version": "3.7.3"
    },
    "colab": {
      "provenance": [],
      "include_colab_link": true
    },
    "accelerator": "GPU"
  },
  "cells": [
    {
      "cell_type": "markdown",
      "metadata": {
        "id": "view-in-github",
        "colab_type": "text"
      },
      "source": [
        "<a href=\"https://colab.research.google.com/github/tingweiwu17/colab_machine_learing/blob/main/ECG_Heartbeat_Categorization_using_CNN_and_LSTM.ipynb\" target=\"_parent\"><img src=\"https://colab.research.google.com/assets/colab-badge.svg\" alt=\"Open In Colab\"/></a>"
      ]
    },
    {
      "cell_type": "markdown",
      "source": [
        "#### 資料集來源: https://www.kaggle.com/shayanfazeli/heartbeat\n",
        "#### 參考資料與程式碼:\n",
        "*   https://blog.csdn.net/cskywit/article/details/87460704\n",
        "*   https://blog.csdn.net/weixin_39685674/article/details/110278175\n",
        "*   https://www.kaggle.com/arpandas65/covid-19-projection-using-lstm\n",
        "*   https://www.kaggle.com/amirrezaeian/time-series-data-analysis-using-lstm-tutorial\n",
        "*   https://brohrer.mcknote.com/zh-Hant/how_machine_learning_works/how_rnns_lstm_work.html"
      ],
      "metadata": {
        "id": "UB4UCgjDa_Z4"
      }
    },
    {
      "cell_type": "code",
      "source": [
        "!pip uninstall gdown -y && pip install gdown\n",
        "import gdown"
      ],
      "metadata": {
        "id": "hXzsbFONM1V_"
      },
      "execution_count": null,
      "outputs": []
    },
    {
      "cell_type": "code",
      "metadata": {
        "id": "W9jmu_6EaXPP"
      },
      "source": [
        "# Download from Google Drive\n",
        "!gdown 1Zc2otIItjH_QMIWmVmt3Ez-aFHdn9uYx\n",
        "!unzip -o -q ecg-kaggle.zip"
      ],
      "execution_count": null,
      "outputs": []
    },
    {
      "cell_type": "code",
      "metadata": {
        "id": "KYvgQLZoaLsp"
      },
      "source": [
        "import pandas as pd\n",
        "import matplotlib.pyplot as plt\n",
        "import numpy as np\n",
        "from sklearn.model_selection import train_test_split\n",
        "from sklearn.metrics import classification_report, confusion_matrix\n",
        "import os\n",
        "\n",
        "import tensorflow as tf\n",
        "from tensorflow import keras\n",
        "from tensorflow.keras import layers, models, utils, callbacks, metrics\n",
        "\n",
        "import cv2\n",
        "tf.__version__"
      ],
      "execution_count": null,
      "outputs": []
    },
    {
      "cell_type": "code",
      "metadata": {
        "id": "WKy_HXz7aLsw"
      },
      "source": [
        "df = pd.read_csv('kaggle/train.csv')\n",
        "num_classes=5"
      ],
      "execution_count": null,
      "outputs": []
    },
    {
      "cell_type": "code",
      "metadata": {
        "id": "x2vY5R1-aLsy"
      },
      "source": [
        "df.head()"
      ],
      "execution_count": null,
      "outputs": []
    },
    {
      "cell_type": "code",
      "metadata": {
        "id": "cBJn-xmSbFQ4"
      },
      "source": [
        "df_train, df_val = train_test_split(df, test_size=0.2)"
      ],
      "execution_count": null,
      "outputs": []
    },
    {
      "cell_type": "code",
      "metadata": {
        "id": "u0sSv4J1aLtN"
      },
      "source": [
        "# last column: label\n",
        "# other columns: ECG signals\n",
        "x_train = df_train.iloc[:, :-1]\n",
        "x_train = np.expand_dims(x_train, axis=-1)\n",
        "y_train = df_train.iloc[:, -1]\n",
        "\n",
        "x_val = df_val.iloc[:, :-1]\n",
        "x_val = np.expand_dims(x_val, axis=-1)\n",
        "y_val = df_val.iloc[:, -1]\n",
        "\n",
        "y_train = utils.to_categorical(y_train, num_classes=num_classes)\n",
        "y_val = utils.to_categorical(y_val, num_classes=num_classes)"
      ],
      "execution_count": null,
      "outputs": []
    },
    {
      "cell_type": "code",
      "metadata": {
        "id": "t5YZZJWZaLtQ"
      },
      "source": [
        "# (# of data, signal length, channel)\n",
        "x_train.shape, y_train.shape, x_val.shape, y_val.shape"
      ],
      "execution_count": null,
      "outputs": []
    },
    {
      "cell_type": "code",
      "metadata": {
        "id": "7hfp2IZWofSm"
      },
      "source": [
        "idx = np.random.randint(0, len(x_train))\n",
        "print('label: ', y_train[idx])\n",
        "plt.plot(x_train[idx])"
      ],
      "execution_count": null,
      "outputs": []
    },
    {
      "cell_type": "code",
      "metadata": {
        "id": "9AlqHd5bow0O"
      },
      "source": [
        "np.unique(np.argmax(y_train, axis=-1), return_counts=True), np.unique(np.argmax(y_val, axis=-1), return_counts=True)"
      ],
      "execution_count": null,
      "outputs": []
    },
    {
      "cell_type": "markdown",
      "source": [
        "#### CNN"
      ],
      "metadata": {
        "id": "_SIabBPgvhYF"
      }
    },
    {
      "cell_type": "code",
      "metadata": {
        "id": "Git1WfBWaLtT"
      },
      "source": [
        "def conv_bn(x, filters, strides=1):\n",
        "    x = layers.Conv1D(filters, 3, strides=strides, padding='same')(x)\n",
        "    x = layers.BatchNormalization()(x)\n",
        "    x = layers.ReLU()(x)\n",
        "    return x\n",
        "\n",
        "def build_model(input_shape):\n",
        "    inputs = layers.Input(shape=input_shape)\n",
        "    x = conv_bn(inputs, 64)\n",
        "    x = conv_bn(x, 64)\n",
        "    x = conv_bn(x, 64, strides=2)\n",
        "    x = conv_bn(x, 128)\n",
        "    x = conv_bn(x, 128, strides=2)\n",
        "    x = conv_bn(x, 256)\n",
        "    x = conv_bn(x, 256)\n",
        "    x = layers.GlobalAveragePooling1D()(x)\n",
        "    x = layers.Dense(num_classes, activation='softmax')(x)\n",
        "    \n",
        "    model = models.Model(inputs, x)\n",
        "    model.compile(optimizer='adam', \n",
        "           loss='categorical_crossentropy',\n",
        "           metrics = ['accuracy'])\n",
        "    return model"
      ],
      "execution_count": null,
      "outputs": []
    },
    {
      "cell_type": "code",
      "metadata": {
        "id": "qFNobbp5aLtW"
      },
      "source": [
        "model = build_model(input_shape=x_train.shape[1:])\n",
        "model.summary()"
      ],
      "execution_count": null,
      "outputs": []
    },
    {
      "cell_type": "code",
      "metadata": {
        "id": "aZNJNwYJaLtZ"
      },
      "source": [
        "callback = [tf.keras.callbacks.EarlyStopping(monitor='val_loss', patience=30),\n",
        "       tf.keras.callbacks.ModelCheckpoint(filepath='model.h5', monitor='val_loss', save_best_only=True)]"
      ],
      "execution_count": null,
      "outputs": []
    },
    {
      "cell_type": "code",
      "metadata": {
        "id": "lIHFGNEXaLtd"
      },
      "source": [
        "history = model.fit(x_train, y_train, \n",
        "      epochs=100,\n",
        "      callbacks=callback, \n",
        "      batch_size=32,\n",
        "      validation_data=(x_val, y_val),\n",
        "      )"
      ],
      "execution_count": null,
      "outputs": []
    },
    {
      "cell_type": "code",
      "metadata": {
        "id": "gUzNVEJY33aI"
      },
      "source": [
        "def cls_report(path, x_val, y_val):\n",
        "    model = models.load_model(path)\n",
        "    pred = np.argmax(model.predict(x_val), axis=-1)\n",
        "    print(classification_report(np.argmax(y_val, axis=-1), pred))\n",
        "    print(confusion_matrix(np.argmax(y_val, axis=-1), pred))"
      ],
      "execution_count": null,
      "outputs": []
    },
    {
      "cell_type": "code",
      "metadata": {
        "id": "Rk97-eaF5D-c"
      },
      "source": [
        "cls_report('model.h5', x_val, y_val)"
      ],
      "execution_count": null,
      "outputs": []
    },
    {
      "cell_type": "markdown",
      "source": [
        "#### LSTM"
      ],
      "metadata": {
        "id": "Edd9AZCrDOWR"
      }
    },
    {
      "cell_type": "code",
      "source": [
        "from tensorflow.keras.models import Sequential\n",
        "from tensorflow.keras.layers import Dense\n",
        "from tensorflow.keras.callbacks import ModelCheckpoint, ReduceLROnPlateau, EarlyStopping\n",
        "from tensorflow.keras.layers import Dropout\n",
        "from tensorflow.keras.layers import LSTM\n",
        "from tensorflow.keras.utils import plot_model\n",
        "from tensorflow.keras import Input\n",
        "from tensorflow.keras.layers import BatchNormalization"
      ],
      "metadata": {
        "id": "nCCO8z2iH74L"
      },
      "execution_count": null,
      "outputs": []
    },
    {
      "cell_type": "code",
      "source": [
        "epochs = 100\n",
        "batch_size = 32"
      ],
      "metadata": {
        "id": "CcdtegneW6JA"
      },
      "execution_count": null,
      "outputs": []
    },
    {
      "cell_type": "code",
      "source": [
        "# (# of data, signal length, channel)\n",
        "x_train.shape, y_train.shape, x_val.shape, y_val.shape"
      ],
      "metadata": {
        "id": "OQ-L9FbEDpBP"
      },
      "execution_count": null,
      "outputs": []
    },
    {
      "cell_type": "code",
      "source": [
        "# Reshapping the data for LSTM\n",
        "x_train_lstm = x_train.reshape((x_train.shape[0], 1, x_train.shape[1]))\n",
        "x_val_lstm= x_val.reshape(( x_val.shape[0], 1,  x_val.shape[1]))\n",
        "timesteps = x_train_lstm.shape[1]\n",
        "n_features = x_train_lstm.shape[2]\n",
        "print(x_train_lstm.shape, y_train.shape, x_val_lstm.shape, y_val.shape)"
      ],
      "metadata": {
        "id": "Jiph__PfEFts"
      },
      "execution_count": null,
      "outputs": []
    },
    {
      "cell_type": "code",
      "source": [
        "print(timesteps, n_features, num_classes)"
      ],
      "metadata": {
        "id": "l43EyTCoDQmZ"
      },
      "execution_count": null,
      "outputs": []
    },
    {
      "cell_type": "code",
      "source": [
        "# Stacked LSTM Model\n",
        "model_lstm = Sequential()\n",
        "model_lstm.add(LSTM(50, activation='relu', input_shape=(timesteps, n_features),return_sequences=True))\n",
        "model_lstm.add(LSTM(150, activation='relu'))\n",
        "model_lstm.add(Dense(num_classes, activation='relu'))\n",
        "model_lstm.summary()"
      ],
      "metadata": {
        "id": "oiKX3-HkFuC6"
      },
      "execution_count": null,
      "outputs": []
    },
    {
      "cell_type": "code",
      "source": [
        "# Compiling the model\n",
        "model_lstm.compile(optimizer='adam', loss=tf.keras.losses.MeanSquaredLogarithmicError())\n",
        "callbacks = [ReduceLROnPlateau(monitor='val_loss', patience=5, verbose=1, factor=0.6),\n",
        "        EarlyStopping(monitor='val_loss', patience=10),\n",
        "        ModelCheckpoint(filepath='model_lstm.h5', monitor='val_loss', save_best_only=True)]\n",
        "# fit the model\n",
        "hist=model_lstm.fit(x_train_lstm, y_train, epochs=epochs, batch_size=batch_size, validation_data=(x_val_lstm, y_val), verbose=2, \n",
        "         shuffle=True,callbacks=callbacks)"
      ],
      "metadata": {
        "id": "rapZOILKHxoZ"
      },
      "execution_count": null,
      "outputs": []
    },
    {
      "cell_type": "code",
      "source": [
        "# summarize history for loss\n",
        "plt.plot(hist.history['loss'])\n",
        "plt.plot(hist.history['val_loss'])\n",
        "plt.title('model loss')\n",
        "plt.ylabel('loss')\n",
        "plt.xlabel('epoch')\n",
        "plt.legend(['train', 'test'], loc='upper right')\n",
        "plt.show()"
      ],
      "metadata": {
        "id": "Kbg-au98IZjP"
      },
      "execution_count": null,
      "outputs": []
    },
    {
      "cell_type": "code",
      "source": [
        "cls_report('model_lstm.h5', x_val_lstm, y_val)"
      ],
      "metadata": {
        "id": "wZY-D1vXOolH"
      },
      "execution_count": null,
      "outputs": []
    },
    {
      "cell_type": "code",
      "source": [],
      "metadata": {
        "id": "ELmxebYEU4vn"
      },
      "execution_count": null,
      "outputs": []
    }
  ]
}